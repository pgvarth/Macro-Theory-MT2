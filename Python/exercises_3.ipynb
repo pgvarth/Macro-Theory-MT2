{
 "cells": [
  {
   "cell_type": "markdown",
   "id": "144e6ec7-df03-4fee-8865-5d7861d0a81f",
   "metadata": {},
   "source": [
    "Problem Statement:\n",
    "You are given a simple market scenario where the demand and supply functions for a certain product are known. Your task is to determine the equilibrium price and quantity for this market.\n",
    "\n",
    "Given:\n",
    "\n",
    "- Demand Function: $ D(p) = 15 - 2p $\n",
    "- Supply Function: $ S(p) = 6 + p $\n",
    "\n",
    "Tasks:\n",
    "\n",
    "- Define Python functions to represent the demand and supply functions.\n",
    "- Write a Python function to find the equilibrium price and quantity by iterating through possible prices and checking where demand equals supply.\n",
    "- Print the equilibrium price and quantity.\n",
    "- Graph the two functions along with the equilibrium point"
   ]
  },
  {
   "cell_type": "code",
   "execution_count": null,
   "id": "994d0e52-013b-4e18-9fe5-f0d073d7f3f0",
   "metadata": {},
   "outputs": [],
   "source": []
  }
 ],
 "metadata": {
  "kernelspec": {
   "display_name": "Python 3 (ipykernel)",
   "language": "python",
   "name": "python3"
  },
  "language_info": {
   "codemirror_mode": {
    "name": "ipython",
    "version": 3
   },
   "file_extension": ".py",
   "mimetype": "text/x-python",
   "name": "python",
   "nbconvert_exporter": "python",
   "pygments_lexer": "ipython3",
   "version": "3.10.9"
  }
 },
 "nbformat": 4,
 "nbformat_minor": 5
}
