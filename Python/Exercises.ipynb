{
 "cells": [
  {
   "cell_type": "markdown",
   "id": "be52930b-1ea4-4f87-bb35-ab1381cace20",
   "metadata": {},
   "source": [
    "# Προαιρετικές ασκήσεις "
   ]
  },
  {
   "cell_type": "markdown",
   "id": "a5fe2186-cfad-42e4-9179-b189d04572a6",
   "metadata": {},
   "source": [
    "## Γκρουπ 1: Υπολογιστικές ασκήσεις"
   ]
  },
  {
   "cell_type": "markdown",
   "id": "68c0fc8a-1eaa-4ca7-ace3-da9c850efa64",
   "metadata": {},
   "source": [
    "### Άσκηση 1"
   ]
  },
  {
   "cell_type": "markdown",
   "id": "cf8d3be8-68bd-428e-a22e-9f9bdc3103f0",
   "metadata": {},
   "source": [
    "Υπολογίστε τον στατιστικό μέσο, διάμεσο και επικρατούσα τιμή του παρακάτω σετ αριθμών:\n",
    "\n",
    "[7, 15, 11, 8, 7, 19, 11, 11, 4, 8, 3, 2, 12, 6, 2, 1, 12, 12, 17, 10, 5, 5, 5, 5]\n",
    "    "
   ]
  },
  {
   "cell_type": "markdown",
   "id": "3ad812b5-0af1-478f-9ccd-919037ad6d77",
   "metadata": {},
   "source": [
    "### Άσκηση 2\n",
    "\n",
    "Βρείτε το εμβαδόν ενός κύκλου που έχει ακτίνα 5. Χρησιμοποιήστε τον αριθμό 3.14 ως προσέγγιση του πι."
   ]
  },
  {
   "cell_type": "markdown",
   "id": "a27e446c-5412-437b-a091-2017d40c3e5f",
   "metadata": {},
   "source": [
    "### Άσκηση 3\n",
    "\n",
    "Βρείτε τις ρίζες της τετραγωνικής εξίσωσης: $x^2-5x+6=0$."
   ]
  },
  {
   "cell_type": "markdown",
   "id": "a7196a78-744a-4e42-80fb-3a19580c31ac",
   "metadata": {},
   "source": [
    "### Άσκηση 4\n",
    "\n",
    "Ο τύπος του ανατοκισμού (compound interest) είναι ο ακόλουθος:\n",
    "\n",
    "$ A = P(1+ \\frac{r}{n})^{nt} $\n",
    "\n",
    "όπου\n",
    "\n",
    "- Α είναι το ποσό χρημάτων που έχει συσσωρευτεί μετά από n χρόνια, συμπεριλαμβανομένου του τόκου.\n",
    "\n",
    "- P είναι το αρχικό κεφάλαιο.\n",
    "\n",
    "- r είναι το ετήσιο επιτόκιο.\n",
    "\n",
    "- n είναι ο αριθμός των φορών που ο τόκος συνθέτεται ανά έτος.\n",
    "\n",
    "- t είναι ο χρόνος που επενδύεται το χρήμα σε χρόνια.\n",
    "\n",
    "\n",
    "Ας υποθέσουμε πως 3 φίλοι (οι Α,Β,Γ) θέλουν να επενδύσουν τις αποταμιεύσεις τους με ένα ετήσιο επιτόκιο της τάξης του 5%. Ο Α επιλέγει ανατοκισμό τριμηνιαία, ο Β εξαμηνιαία και ο Γ ετήσια. Καθένας επενδύει 1000 ευρώ για 5 χρόνια. Γράψτε ένα πρόγραμμα στην Python που υπολογίζει και συγκρίνει το τελικό ποσό που έχει συσσωρεύσει ο καθένας τους μετά από 5 χρόνια.\n",
    "\n"
   ]
  },
  {
   "cell_type": "markdown",
   "id": "57a94b85-6b58-4b87-811b-f89f648d61e2",
   "metadata": {},
   "source": [
    "### Άσκηση 5"
   ]
  },
  {
   "cell_type": "markdown",
   "id": "16e4f103-3b00-4663-b661-47738a9a85cc",
   "metadata": {},
   "source": [
    "Δημιουργήστε μία λίστα (list) των τετραγώνων των αριθμών 1 εως 10 και εκτυπώστε την."
   ]
  },
  {
   "cell_type": "code",
   "execution_count": null,
   "id": "8eb9348a-8721-4bf1-a7fa-d0dcab32c5ed",
   "metadata": {},
   "outputs": [],
   "source": []
  }
 ],
 "metadata": {
  "kernelspec": {
   "display_name": "Python 3 (ipykernel)",
   "language": "python",
   "name": "python3"
  },
  "language_info": {
   "codemirror_mode": {
    "name": "ipython",
    "version": 3
   },
   "file_extension": ".py",
   "mimetype": "text/x-python",
   "name": "python",
   "nbconvert_exporter": "python",
   "pygments_lexer": "ipython3",
   "version": "3.10.9"
  }
 },
 "nbformat": 4,
 "nbformat_minor": 5
}
